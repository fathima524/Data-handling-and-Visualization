{
  "nbformat": 4,
  "nbformat_minor": 0,
  "metadata": {
    "colab": {
      "provenance": [],
      "authorship_tag": "ABX9TyN94c3yeVYGwDlSMF5Jr8Ps",
      "include_colab_link": true
    },
    "kernelspec": {
      "name": "python3",
      "display_name": "Python 3"
    },
    "language_info": {
      "name": "python"
    }
  },
  "cells": [
    {
      "cell_type": "markdown",
      "metadata": {
        "id": "view-in-github",
        "colab_type": "text"
      },
      "source": [
        "<a href=\"https://colab.research.google.com/github/fathima524/Data-handling-and-Visualization/blob/main/COVID_19_data_insights.ipynb\" target=\"_parent\"><img src=\"https://colab.research.google.com/assets/colab-badge.svg\" alt=\"Open In Colab\"/></a>"
      ]
    },
    {
      "cell_type": "code",
      "execution_count": null,
      "metadata": {
        "colab": {
          "base_uri": "https://localhost:8080/"
        },
        "id": "7wtx-y5Ftqi1",
        "outputId": "1ee0bcbf-7e9e-4fe7-d582-632b361e2809"
      },
      "outputs": [
        {
          "output_type": "stream",
          "name": "stdout",
          "text": [
            "Mounted at /content/drive\n"
          ]
        }
      ],
      "source": [
        "\n",
        "from google.colab import drive\n",
        "drive.mount('/content/drive')"
      ]
    },
    {
      "cell_type": "code",
      "source": [
        "import pandas as pd\n",
        "import numpy as np\n",
        "import matplotlib.pyplot as plt\n",
        "import seaborn as sns\n",
        "import plotly.express as px\n",
        "from plotly.subplots import make_subplots\n",
        "from datetime import datetime"
      ],
      "metadata": {
        "id": "yuljf4cSukAP"
      },
      "execution_count": null,
      "outputs": []
    },
    {
      "cell_type": "code",
      "source": [
        "covid_df=pd.read_csv(\"/content/drive/MyDrive/dha project/covid_19_india.csv\")"
      ],
      "metadata": {
        "id": "E14UZI3Xx83x"
      },
      "execution_count": null,
      "outputs": []
    },
    {
      "cell_type": "code",
      "source": [
        "covid_df.head(5)"
      ],
      "metadata": {
        "colab": {
          "base_uri": "https://localhost:8080/",
          "height": 206
        },
        "id": "5lCmYIt0yXFI",
        "outputId": "3d390523-c654-406b-932e-3aa4af4209af"
      },
      "execution_count": null,
      "outputs": [
        {
          "output_type": "execute_result",
          "data": {
            "text/plain": [
              "   Sno        Date     Time State/UnionTerritory ConfirmedIndianNational  \\\n",
              "0  1.0  2020-01-30  6:00 PM               Kerala                       1   \n",
              "1  2.0  2020-01-31  6:00 PM               Kerala                       1   \n",
              "2  3.0  2020-02-01  6:00 PM               Kerala                       2   \n",
              "3  4.0  2020-02-02  6:00 PM               Kerala                       3   \n",
              "4  5.0  2020-02-03  6:00 PM               Kerala                       3   \n",
              "\n",
              "  ConfirmedForeignNational  Cured  Deaths  Confirmed  \n",
              "0                        0    0.0     0.0        1.0  \n",
              "1                        0    0.0     0.0        1.0  \n",
              "2                        0    0.0     0.0        2.0  \n",
              "3                        0    0.0     0.0        3.0  \n",
              "4                        0    0.0     0.0        3.0  "
            ],
            "text/html": [
              "\n",
              "  <div id=\"df-4768ce30-eec6-4281-93fe-a6353320bfe2\" class=\"colab-df-container\">\n",
              "    <div>\n",
              "<style scoped>\n",
              "    .dataframe tbody tr th:only-of-type {\n",
              "        vertical-align: middle;\n",
              "    }\n",
              "\n",
              "    .dataframe tbody tr th {\n",
              "        vertical-align: top;\n",
              "    }\n",
              "\n",
              "    .dataframe thead th {\n",
              "        text-align: right;\n",
              "    }\n",
              "</style>\n",
              "<table border=\"1\" class=\"dataframe\">\n",
              "  <thead>\n",
              "    <tr style=\"text-align: right;\">\n",
              "      <th></th>\n",
              "      <th>Sno</th>\n",
              "      <th>Date</th>\n",
              "      <th>Time</th>\n",
              "      <th>State/UnionTerritory</th>\n",
              "      <th>ConfirmedIndianNational</th>\n",
              "      <th>ConfirmedForeignNational</th>\n",
              "      <th>Cured</th>\n",
              "      <th>Deaths</th>\n",
              "      <th>Confirmed</th>\n",
              "    </tr>\n",
              "  </thead>\n",
              "  <tbody>\n",
              "    <tr>\n",
              "      <th>0</th>\n",
              "      <td>1.0</td>\n",
              "      <td>2020-01-30</td>\n",
              "      <td>6:00 PM</td>\n",
              "      <td>Kerala</td>\n",
              "      <td>1</td>\n",
              "      <td>0</td>\n",
              "      <td>0.0</td>\n",
              "      <td>0.0</td>\n",
              "      <td>1.0</td>\n",
              "    </tr>\n",
              "    <tr>\n",
              "      <th>1</th>\n",
              "      <td>2.0</td>\n",
              "      <td>2020-01-31</td>\n",
              "      <td>6:00 PM</td>\n",
              "      <td>Kerala</td>\n",
              "      <td>1</td>\n",
              "      <td>0</td>\n",
              "      <td>0.0</td>\n",
              "      <td>0.0</td>\n",
              "      <td>1.0</td>\n",
              "    </tr>\n",
              "    <tr>\n",
              "      <th>2</th>\n",
              "      <td>3.0</td>\n",
              "      <td>2020-02-01</td>\n",
              "      <td>6:00 PM</td>\n",
              "      <td>Kerala</td>\n",
              "      <td>2</td>\n",
              "      <td>0</td>\n",
              "      <td>0.0</td>\n",
              "      <td>0.0</td>\n",
              "      <td>2.0</td>\n",
              "    </tr>\n",
              "    <tr>\n",
              "      <th>3</th>\n",
              "      <td>4.0</td>\n",
              "      <td>2020-02-02</td>\n",
              "      <td>6:00 PM</td>\n",
              "      <td>Kerala</td>\n",
              "      <td>3</td>\n",
              "      <td>0</td>\n",
              "      <td>0.0</td>\n",
              "      <td>0.0</td>\n",
              "      <td>3.0</td>\n",
              "    </tr>\n",
              "    <tr>\n",
              "      <th>4</th>\n",
              "      <td>5.0</td>\n",
              "      <td>2020-02-03</td>\n",
              "      <td>6:00 PM</td>\n",
              "      <td>Kerala</td>\n",
              "      <td>3</td>\n",
              "      <td>0</td>\n",
              "      <td>0.0</td>\n",
              "      <td>0.0</td>\n",
              "      <td>3.0</td>\n",
              "    </tr>\n",
              "  </tbody>\n",
              "</table>\n",
              "</div>\n",
              "    <div class=\"colab-df-buttons\">\n",
              "\n",
              "  <div class=\"colab-df-container\">\n",
              "    <button class=\"colab-df-convert\" onclick=\"convertToInteractive('df-4768ce30-eec6-4281-93fe-a6353320bfe2')\"\n",
              "            title=\"Convert this dataframe to an interactive table.\"\n",
              "            style=\"display:none;\">\n",
              "\n",
              "  <svg xmlns=\"http://www.w3.org/2000/svg\" height=\"24px\" viewBox=\"0 -960 960 960\">\n",
              "    <path d=\"M120-120v-720h720v720H120Zm60-500h600v-160H180v160Zm220 220h160v-160H400v160Zm0 220h160v-160H400v160ZM180-400h160v-160H180v160Zm440 0h160v-160H620v160ZM180-180h160v-160H180v160Zm440 0h160v-160H620v160Z\"/>\n",
              "  </svg>\n",
              "    </button>\n",
              "\n",
              "  <style>\n",
              "    .colab-df-container {\n",
              "      display:flex;\n",
              "      gap: 12px;\n",
              "    }\n",
              "\n",
              "    .colab-df-convert {\n",
              "      background-color: #E8F0FE;\n",
              "      border: none;\n",
              "      border-radius: 50%;\n",
              "      cursor: pointer;\n",
              "      display: none;\n",
              "      fill: #1967D2;\n",
              "      height: 32px;\n",
              "      padding: 0 0 0 0;\n",
              "      width: 32px;\n",
              "    }\n",
              "\n",
              "    .colab-df-convert:hover {\n",
              "      background-color: #E2EBFA;\n",
              "      box-shadow: 0px 1px 2px rgba(60, 64, 67, 0.3), 0px 1px 3px 1px rgba(60, 64, 67, 0.15);\n",
              "      fill: #174EA6;\n",
              "    }\n",
              "\n",
              "    .colab-df-buttons div {\n",
              "      margin-bottom: 4px;\n",
              "    }\n",
              "\n",
              "    [theme=dark] .colab-df-convert {\n",
              "      background-color: #3B4455;\n",
              "      fill: #D2E3FC;\n",
              "    }\n",
              "\n",
              "    [theme=dark] .colab-df-convert:hover {\n",
              "      background-color: #434B5C;\n",
              "      box-shadow: 0px 1px 3px 1px rgba(0, 0, 0, 0.15);\n",
              "      filter: drop-shadow(0px 1px 2px rgba(0, 0, 0, 0.3));\n",
              "      fill: #FFFFFF;\n",
              "    }\n",
              "  </style>\n",
              "\n",
              "    <script>\n",
              "      const buttonEl =\n",
              "        document.querySelector('#df-4768ce30-eec6-4281-93fe-a6353320bfe2 button.colab-df-convert');\n",
              "      buttonEl.style.display =\n",
              "        google.colab.kernel.accessAllowed ? 'block' : 'none';\n",
              "\n",
              "      async function convertToInteractive(key) {\n",
              "        const element = document.querySelector('#df-4768ce30-eec6-4281-93fe-a6353320bfe2');\n",
              "        const dataTable =\n",
              "          await google.colab.kernel.invokeFunction('convertToInteractive',\n",
              "                                                    [key], {});\n",
              "        if (!dataTable) return;\n",
              "\n",
              "        const docLinkHtml = 'Like what you see? Visit the ' +\n",
              "          '<a target=\"_blank\" href=https://colab.research.google.com/notebooks/data_table.ipynb>data table notebook</a>'\n",
              "          + ' to learn more about interactive tables.';\n",
              "        element.innerHTML = '';\n",
              "        dataTable['output_type'] = 'display_data';\n",
              "        await google.colab.output.renderOutput(dataTable, element);\n",
              "        const docLink = document.createElement('div');\n",
              "        docLink.innerHTML = docLinkHtml;\n",
              "        element.appendChild(docLink);\n",
              "      }\n",
              "    </script>\n",
              "  </div>\n",
              "\n",
              "\n",
              "<div id=\"df-77da23d0-b1fa-48da-ae67-466fc212abc9\">\n",
              "  <button class=\"colab-df-quickchart\" onclick=\"quickchart('df-77da23d0-b1fa-48da-ae67-466fc212abc9')\"\n",
              "            title=\"Suggest charts\"\n",
              "            style=\"display:none;\">\n",
              "\n",
              "<svg xmlns=\"http://www.w3.org/2000/svg\" height=\"24px\"viewBox=\"0 0 24 24\"\n",
              "     width=\"24px\">\n",
              "    <g>\n",
              "        <path d=\"M19 3H5c-1.1 0-2 .9-2 2v14c0 1.1.9 2 2 2h14c1.1 0 2-.9 2-2V5c0-1.1-.9-2-2-2zM9 17H7v-7h2v7zm4 0h-2V7h2v10zm4 0h-2v-4h2v4z\"/>\n",
              "    </g>\n",
              "</svg>\n",
              "  </button>\n",
              "\n",
              "<style>\n",
              "  .colab-df-quickchart {\n",
              "      --bg-color: #E8F0FE;\n",
              "      --fill-color: #1967D2;\n",
              "      --hover-bg-color: #E2EBFA;\n",
              "      --hover-fill-color: #174EA6;\n",
              "      --disabled-fill-color: #AAA;\n",
              "      --disabled-bg-color: #DDD;\n",
              "  }\n",
              "\n",
              "  [theme=dark] .colab-df-quickchart {\n",
              "      --bg-color: #3B4455;\n",
              "      --fill-color: #D2E3FC;\n",
              "      --hover-bg-color: #434B5C;\n",
              "      --hover-fill-color: #FFFFFF;\n",
              "      --disabled-bg-color: #3B4455;\n",
              "      --disabled-fill-color: #666;\n",
              "  }\n",
              "\n",
              "  .colab-df-quickchart {\n",
              "    background-color: var(--bg-color);\n",
              "    border: none;\n",
              "    border-radius: 50%;\n",
              "    cursor: pointer;\n",
              "    display: none;\n",
              "    fill: var(--fill-color);\n",
              "    height: 32px;\n",
              "    padding: 0;\n",
              "    width: 32px;\n",
              "  }\n",
              "\n",
              "  .colab-df-quickchart:hover {\n",
              "    background-color: var(--hover-bg-color);\n",
              "    box-shadow: 0 1px 2px rgba(60, 64, 67, 0.3), 0 1px 3px 1px rgba(60, 64, 67, 0.15);\n",
              "    fill: var(--button-hover-fill-color);\n",
              "  }\n",
              "\n",
              "  .colab-df-quickchart-complete:disabled,\n",
              "  .colab-df-quickchart-complete:disabled:hover {\n",
              "    background-color: var(--disabled-bg-color);\n",
              "    fill: var(--disabled-fill-color);\n",
              "    box-shadow: none;\n",
              "  }\n",
              "\n",
              "  .colab-df-spinner {\n",
              "    border: 2px solid var(--fill-color);\n",
              "    border-color: transparent;\n",
              "    border-bottom-color: var(--fill-color);\n",
              "    animation:\n",
              "      spin 1s steps(1) infinite;\n",
              "  }\n",
              "\n",
              "  @keyframes spin {\n",
              "    0% {\n",
              "      border-color: transparent;\n",
              "      border-bottom-color: var(--fill-color);\n",
              "      border-left-color: var(--fill-color);\n",
              "    }\n",
              "    20% {\n",
              "      border-color: transparent;\n",
              "      border-left-color: var(--fill-color);\n",
              "      border-top-color: var(--fill-color);\n",
              "    }\n",
              "    30% {\n",
              "      border-color: transparent;\n",
              "      border-left-color: var(--fill-color);\n",
              "      border-top-color: var(--fill-color);\n",
              "      border-right-color: var(--fill-color);\n",
              "    }\n",
              "    40% {\n",
              "      border-color: transparent;\n",
              "      border-right-color: var(--fill-color);\n",
              "      border-top-color: var(--fill-color);\n",
              "    }\n",
              "    60% {\n",
              "      border-color: transparent;\n",
              "      border-right-color: var(--fill-color);\n",
              "    }\n",
              "    80% {\n",
              "      border-color: transparent;\n",
              "      border-right-color: var(--fill-color);\n",
              "      border-bottom-color: var(--fill-color);\n",
              "    }\n",
              "    90% {\n",
              "      border-color: transparent;\n",
              "      border-bottom-color: var(--fill-color);\n",
              "    }\n",
              "  }\n",
              "</style>\n",
              "\n",
              "  <script>\n",
              "    async function quickchart(key) {\n",
              "      const quickchartButtonEl =\n",
              "        document.querySelector('#' + key + ' button');\n",
              "      quickchartButtonEl.disabled = true;  // To prevent multiple clicks.\n",
              "      quickchartButtonEl.classList.add('colab-df-spinner');\n",
              "      try {\n",
              "        const charts = await google.colab.kernel.invokeFunction(\n",
              "            'suggestCharts', [key], {});\n",
              "      } catch (error) {\n",
              "        console.error('Error during call to suggestCharts:', error);\n",
              "      }\n",
              "      quickchartButtonEl.classList.remove('colab-df-spinner');\n",
              "      quickchartButtonEl.classList.add('colab-df-quickchart-complete');\n",
              "    }\n",
              "    (() => {\n",
              "      let quickchartButtonEl =\n",
              "        document.querySelector('#df-77da23d0-b1fa-48da-ae67-466fc212abc9 button');\n",
              "      quickchartButtonEl.style.display =\n",
              "        google.colab.kernel.accessAllowed ? 'block' : 'none';\n",
              "    })();\n",
              "  </script>\n",
              "</div>\n",
              "\n",
              "    </div>\n",
              "  </div>\n"
            ],
            "application/vnd.google.colaboratory.intrinsic+json": {
              "type": "dataframe",
              "variable_name": "covid_df",
              "summary": "{\n  \"name\": \"covid_df\",\n  \"rows\": 15114,\n  \"fields\": [\n    {\n      \"column\": \"Sno\",\n      \"properties\": {\n        \"dtype\": \"number\",\n        \"std\": 4355.097415672812,\n        \"min\": 1.0,\n        \"max\": 15086.0,\n        \"num_unique_values\": 15086,\n        \"samples\": [\n          5408.0,\n          9827.0,\n          10549.0\n        ],\n        \"semantic_type\": \"\",\n        \"description\": \"\"\n      }\n    },\n    {\n      \"column\": \"Date\",\n      \"properties\": {\n        \"dtype\": \"object\",\n        \"num_unique_values\": 476,\n        \"samples\": [\n          \"2021-05-11\",\n          \"2020-03-03\",\n          \"2020-06-09\"\n        ],\n        \"semantic_type\": \"\",\n        \"description\": \"\"\n      }\n    },\n    {\n      \"column\": \"Time\",\n      \"properties\": {\n        \"dtype\": \"object\",\n        \"num_unique_values\": 7,\n        \"samples\": [\n          \"6:00 PM\",\n          \"10:00 AM\",\n          \"5:00 PM\"\n        ],\n        \"semantic_type\": \"\",\n        \"description\": \"\"\n      }\n    },\n    {\n      \"column\": \"State/UnionTerritory\",\n      \"properties\": {\n        \"dtype\": \"category\",\n        \"num_unique_values\": 40,\n        \"samples\": [\n          \"Gujarat\",\n          \"West Bengal\",\n          \"Puducherry\"\n        ],\n        \"semantic_type\": \"\",\n        \"description\": \"\"\n      }\n    },\n    {\n      \"column\": \"ConfirmedIndianNational\",\n      \"properties\": {\n        \"dtype\": \"category\",\n        \"num_unique_values\": 62,\n        \"samples\": [\n          \"20\",\n          \"168\",\n          \"1\"\n        ],\n        \"semantic_type\": \"\",\n        \"description\": \"\"\n      }\n    },\n    {\n      \"column\": \"ConfirmedForeignNational\",\n      \"properties\": {\n        \"dtype\": \"category\",\n        \"num_unique_values\": 12,\n        \"samples\": [\n          \"6\",\n          \"8\",\n          \"0\"\n        ],\n        \"semantic_type\": \"\",\n        \"description\": \"\"\n      }\n    },\n    {\n      \"column\": \"Cured\",\n      \"properties\": {\n        \"dtype\": \"number\",\n        \"std\": 364833.0258925372,\n        \"min\": 0.0,\n        \"max\": 4927480.0,\n        \"num_unique_values\": 11520,\n        \"samples\": [\n          33013.0,\n          39128.0,\n          49327.0\n        ],\n        \"semantic_type\": \"\",\n        \"description\": \"\"\n      }\n    },\n    {\n      \"column\": \"Deaths\",\n      \"properties\": {\n        \"dtype\": \"number\",\n        \"std\": 7182.672358062531,\n        \"min\": 0.0,\n        \"max\": 83777.0,\n        \"num_unique_values\": 5026,\n        \"samples\": [\n          4461.0,\n          2002.0,\n          2049.0\n        ],\n        \"semantic_type\": \"\",\n        \"description\": \"\"\n      }\n    },\n    {\n      \"column\": \"Confirmed\",\n      \"properties\": {\n        \"dtype\": \"number\",\n        \"std\": 409518.35685011547,\n        \"min\": 0.0,\n        \"max\": 5433506.0,\n        \"num_unique_values\": 12073,\n        \"samples\": [\n          37298.0,\n          81793.0,\n          21476.0\n        ],\n        \"semantic_type\": \"\",\n        \"description\": \"\"\n      }\n    }\n  ]\n}"
            }
          },
          "metadata": {},
          "execution_count": 9
        }
      ]
    },
    {
      "cell_type": "code",
      "source": [
        "print(covid_df.info())"
      ],
      "metadata": {
        "colab": {
          "base_uri": "https://localhost:8080/"
        },
        "id": "nyFflu32zarQ",
        "outputId": "fb92bab7-4ed8-45bd-8b2c-ca23aba8e280"
      },
      "execution_count": null,
      "outputs": [
        {
          "output_type": "stream",
          "name": "stdout",
          "text": [
            "<class 'pandas.core.frame.DataFrame'>\n",
            "RangeIndex: 15114 entries, 0 to 15113\n",
            "Data columns (total 9 columns):\n",
            " #   Column                    Non-Null Count  Dtype  \n",
            "---  ------                    --------------  -----  \n",
            " 0   Sno                       15086 non-null  float64\n",
            " 1   Date                      15086 non-null  object \n",
            " 2   Time                      15086 non-null  object \n",
            " 3   State/UnionTerritory      15086 non-null  object \n",
            " 4   ConfirmedIndianNational   15086 non-null  object \n",
            " 5   ConfirmedForeignNational  15086 non-null  object \n",
            " 6   Cured                     15086 non-null  float64\n",
            " 7   Deaths                    15086 non-null  float64\n",
            " 8   Confirmed                 15086 non-null  float64\n",
            "dtypes: float64(4), object(5)\n",
            "memory usage: 1.0+ MB\n",
            "None\n"
          ]
        }
      ]
    },
    {
      "cell_type": "markdown",
      "source": [
        "# **PRE PROCESSING THE DATA**"
      ],
      "metadata": {
        "id": "WbwWcLFqzMm3"
      }
    },
    {
      "cell_type": "code",
      "source": [
        "print(covid_df.isnull().sum())"
      ],
      "metadata": {
        "colab": {
          "base_uri": "https://localhost:8080/"
        },
        "id": "GuMpMJPnzPU5",
        "outputId": "73218c8d-b800-4da2-d500-d53263e01412"
      },
      "execution_count": null,
      "outputs": [
        {
          "output_type": "stream",
          "name": "stdout",
          "text": [
            "Sno                         28\n",
            "Date                        28\n",
            "Time                        28\n",
            "State/UnionTerritory        28\n",
            "ConfirmedIndianNational     28\n",
            "ConfirmedForeignNational    28\n",
            "Cured                       28\n",
            "Deaths                      28\n",
            "Confirmed                   28\n",
            "dtype: int64\n"
          ]
        }
      ]
    },
    {
      "cell_type": "code",
      "source": [
        "covid_df.dropna(inplace=True)"
      ],
      "metadata": {
        "id": "GgDLiz5QzpSx"
      },
      "execution_count": null,
      "outputs": []
    },
    {
      "cell_type": "code",
      "source": [
        "print(covid_df.isnull().sum())"
      ],
      "metadata": {
        "colab": {
          "base_uri": "https://localhost:8080/"
        },
        "id": "VvsAeiHJ0Q5b",
        "outputId": "8deb1f10-e13c-42cf-edcb-936cd8e8ed0d"
      },
      "execution_count": null,
      "outputs": [
        {
          "output_type": "stream",
          "name": "stdout",
          "text": [
            "Sno                         0\n",
            "Date                        0\n",
            "Time                        0\n",
            "State/UnionTerritory        0\n",
            "ConfirmedIndianNational     0\n",
            "ConfirmedForeignNational    0\n",
            "Cured                       0\n",
            "Deaths                      0\n",
            "Confirmed                   0\n",
            "dtype: int64\n"
          ]
        }
      ]
    },
    {
      "cell_type": "code",
      "source": [
        "covid_df.drop([\"Sno\",\"Time\",\"ConfirmedIndianNational\",\"ConfirmedForeignNational\"],inplace=True,axis=1)"
      ],
      "metadata": {
        "id": "olTuYNQr0sZq"
      },
      "execution_count": null,
      "outputs": []
    },
    {
      "cell_type": "code",
      "source": [
        "covid_df['Date'] =  pd.to_datetime(covid_df['Date'],format = '%Y-%m-%d')"
      ],
      "metadata": {
        "id": "fxMrfcgV3i9n"
      },
      "execution_count": null,
      "outputs": []
    },
    {
      "cell_type": "code",
      "source": [
        "covid_df.rename(columns={'State/UnionTerritory':'Region'},inplace=True)"
      ],
      "metadata": {
        "id": "UhhoFRA06MT_"
      },
      "execution_count": null,
      "outputs": []
    },
    {
      "cell_type": "markdown",
      "source": [],
      "metadata": {
        "id": "PLTjrhWySSEe"
      }
    },
    {
      "cell_type": "code",
      "source": [
        "print(covid_df.info())"
      ],
      "metadata": {
        "colab": {
          "base_uri": "https://localhost:8080/"
        },
        "id": "tkA7BnMJ4z3g",
        "outputId": "5922ee84-53a9-4630-cd89-71e4bf05194c"
      },
      "execution_count": null,
      "outputs": [
        {
          "output_type": "stream",
          "name": "stdout",
          "text": [
            "<class 'pandas.core.frame.DataFrame'>\n",
            "Index: 15086 entries, 0 to 15085\n",
            "Data columns (total 6 columns):\n",
            " #   Column        Non-Null Count  Dtype         \n",
            "---  ------        --------------  -----         \n",
            " 0   Date          15086 non-null  datetime64[ns]\n",
            " 1   Region        15086 non-null  object        \n",
            " 2   Cured         15086 non-null  float64       \n",
            " 3   Deaths        15086 non-null  float64       \n",
            " 4   Confirmed     15086 non-null  float64       \n",
            " 5   Active Cases  15086 non-null  float64       \n",
            "dtypes: datetime64[ns](1), float64(4), object(1)\n",
            "memory usage: 825.0+ KB\n",
            "None\n"
          ]
        }
      ]
    },
    {
      "cell_type": "markdown",
      "source": [
        "# **FINDING THE TOTAL NUMBER OF ACTIVE CASES**"
      ],
      "metadata": {
        "id": "XwjsEF5-4mlw"
      }
    },
    {
      "cell_type": "code",
      "source": [
        "covid_df['Active Cases']=covid_df['Confirmed'] - (covid_df['Cured'] + covid_df['Deaths'])\n",
        "print(covid_df.head(5))"
      ],
      "metadata": {
        "colab": {
          "base_uri": "https://localhost:8080/"
        },
        "id": "LK_ng1Zr4qnd",
        "outputId": "c5e77923-607d-4709-dc0b-9c3a6825792f"
      },
      "execution_count": null,
      "outputs": [
        {
          "output_type": "stream",
          "name": "stdout",
          "text": [
            "        Date State/UnionTerritory  Cured  Deaths  Confirmed  Active Cases\n",
            "0 2020-01-30               Kerala    0.0     0.0        1.0           1.0\n",
            "1 2020-01-31               Kerala    0.0     0.0        1.0           1.0\n",
            "2 2020-02-01               Kerala    0.0     0.0        2.0           2.0\n",
            "3 2020-02-02               Kerala    0.0     0.0        3.0           3.0\n",
            "4 2020-02-03               Kerala    0.0     0.0        3.0           3.0\n"
          ]
        }
      ]
    },
    {
      "cell_type": "markdown",
      "source": [
        "CREATING A PIVOT TABLE"
      ],
      "metadata": {
        "id": "9c2ylhKe_HfL"
      }
    },
    {
      "cell_type": "code",
      "source": [
        "statewise= pd.pivot_table(covid_df,values = [\"Confirmed\",\"Deaths\",\"Cured\",\"Date\"],index=\"Region\" , aggfunc = max)"
      ],
      "metadata": {
        "id": "78YpVdmH5f5X"
      },
      "execution_count": null,
      "outputs": []
    },
    {
      "cell_type": "code",
      "source": [
        "print(statewise)"
      ],
      "metadata": {
        "colab": {
          "base_uri": "https://localhost:8080/"
        },
        "id": "FH6c_--b7L6M",
        "outputId": "2a74bfb7-5691-47c6-f4ac-a9afc44137a1"
      },
      "execution_count": null,
      "outputs": [
        {
          "output_type": "stream",
          "name": "stdout",
          "text": [
            "                                          Confirmed      Cured   Deaths\n",
            "Region                                                                 \n",
            "Andaman and Nicobar Islands                  6674.0     6359.0     92.0\n",
            "Andhra Pradesh                            1475372.0  1254291.0   9580.0\n",
            "Arunachal Pradesh                           22462.0    19977.0     88.0\n",
            "Assam                                      340858.0   290774.0   2344.0\n",
            "Bihar                                      664115.0   595377.0   4039.0\n",
            "Cases being reassigned to states             9265.0        0.0      0.0\n",
            "Chandigarh                                  56513.0    48831.0    647.0\n",
            "Chhattisgarh                               925531.0   823113.0  12036.0\n",
            "Dadra and Nagar Haveli and Daman and Diu     9652.0     8944.0      4.0\n",
            "Daman & Diu                                     2.0        0.0      0.0\n",
            "Delhi                                     1402873.0  1329899.0  22111.0\n",
            "Goa                                        138776.0   112633.0   2197.0\n",
            "Gujarat                                    766201.0   660489.0   9269.0\n",
            "Haryana                                    709689.0   626852.0   6923.0\n",
            "Himachal Pradesh                           166678.0   129330.0   2460.0\n",
            "Jammu and Kashmir                          251919.0   197701.0   3293.0\n",
            "Jharkhand                                  320934.0   284805.0   4601.0\n",
            "Karnataka                                 2272374.0  1674487.0  22838.0\n",
            "Kerala                                    2200706.0  1846105.0   6612.0\n",
            "Ladakh                                      16784.0    15031.0    170.0\n",
            "Lakshadweep                                  5212.0     3915.0     15.0\n",
            "Madhya Pradesh                             742718.0   652612.0   7139.0\n",
            "Maharashtra                               5433506.0  4927480.0  83777.0\n",
            "Manipur                                     40683.0    33466.0    612.0\n",
            "Meghalaya                                   24872.0    19185.0    355.0\n",
            "Mizoram                                      9252.0     7094.0     29.0\n",
            "Nagaland                                    18714.0    14079.0    228.0\n",
            "Odisha                                     633302.0   536595.0   2357.0\n",
            "Puducherry                                  87749.0    69060.0   1212.0\n",
            "Punjab                                     511652.0   427058.0  12317.0\n",
            "Rajasthan                                  879664.0   713129.0   7080.0\n",
            "Sikkim                                      11689.0     8427.0    212.0\n",
            "Tamil Nadu                                1664350.0  1403052.0  18369.0\n",
            "Telangana                                  536766.0   485644.0   3012.0\n",
            "Telengana                                  443360.0   362160.0   2312.0\n",
            "Tripura                                     42776.0    36402.0    450.0\n",
            "Unassigned                                     77.0        0.0      0.0\n",
            "Uttar Pradesh                             1637663.0  1483249.0  18072.0\n",
            "Uttarakhand                                295790.0   214426.0   5132.0\n",
            "West Bengal                               1171861.0  1026492.0  13576.0\n"
          ]
        }
      ]
    },
    {
      "cell_type": "code",
      "source": [
        "statewise[\"Recovery Rate\"]=statewise[\"Cured\"]*100/statewise[\"Confirmed\"]\n",
        "statewise[\"Mortality Rate\"]=statewise[\"Deaths\"]*100/statewise[\"Confirmed\"]\n",
        "print(statewise)"
      ],
      "metadata": {
        "colab": {
          "base_uri": "https://localhost:8080/"
        },
        "id": "Q-2zY8Hy_Nz6",
        "outputId": "d0928f43-72ea-4ccd-e66e-d9acf90fabba"
      },
      "execution_count": null,
      "outputs": [
        {
          "output_type": "stream",
          "name": "stdout",
          "text": [
            "                                          Confirmed      Cured   Deaths  \\\n",
            "Region                                                                    \n",
            "Andaman and Nicobar Islands                  6674.0     6359.0     92.0   \n",
            "Andhra Pradesh                            1475372.0  1254291.0   9580.0   \n",
            "Arunachal Pradesh                           22462.0    19977.0     88.0   \n",
            "Assam                                      340858.0   290774.0   2344.0   \n",
            "Bihar                                      664115.0   595377.0   4039.0   \n",
            "Cases being reassigned to states             9265.0        0.0      0.0   \n",
            "Chandigarh                                  56513.0    48831.0    647.0   \n",
            "Chhattisgarh                               925531.0   823113.0  12036.0   \n",
            "Dadra and Nagar Haveli and Daman and Diu     9652.0     8944.0      4.0   \n",
            "Daman & Diu                                     2.0        0.0      0.0   \n",
            "Delhi                                     1402873.0  1329899.0  22111.0   \n",
            "Goa                                        138776.0   112633.0   2197.0   \n",
            "Gujarat                                    766201.0   660489.0   9269.0   \n",
            "Haryana                                    709689.0   626852.0   6923.0   \n",
            "Himachal Pradesh                           166678.0   129330.0   2460.0   \n",
            "Jammu and Kashmir                          251919.0   197701.0   3293.0   \n",
            "Jharkhand                                  320934.0   284805.0   4601.0   \n",
            "Karnataka                                 2272374.0  1674487.0  22838.0   \n",
            "Kerala                                    2200706.0  1846105.0   6612.0   \n",
            "Ladakh                                      16784.0    15031.0    170.0   \n",
            "Lakshadweep                                  5212.0     3915.0     15.0   \n",
            "Madhya Pradesh                             742718.0   652612.0   7139.0   \n",
            "Maharashtra                               5433506.0  4927480.0  83777.0   \n",
            "Manipur                                     40683.0    33466.0    612.0   \n",
            "Meghalaya                                   24872.0    19185.0    355.0   \n",
            "Mizoram                                      9252.0     7094.0     29.0   \n",
            "Nagaland                                    18714.0    14079.0    228.0   \n",
            "Odisha                                     633302.0   536595.0   2357.0   \n",
            "Puducherry                                  87749.0    69060.0   1212.0   \n",
            "Punjab                                     511652.0   427058.0  12317.0   \n",
            "Rajasthan                                  879664.0   713129.0   7080.0   \n",
            "Sikkim                                      11689.0     8427.0    212.0   \n",
            "Tamil Nadu                                1664350.0  1403052.0  18369.0   \n",
            "Telangana                                  536766.0   485644.0   3012.0   \n",
            "Telengana                                  443360.0   362160.0   2312.0   \n",
            "Tripura                                     42776.0    36402.0    450.0   \n",
            "Unassigned                                     77.0        0.0      0.0   \n",
            "Uttar Pradesh                             1637663.0  1483249.0  18072.0   \n",
            "Uttarakhand                                295790.0   214426.0   5132.0   \n",
            "West Bengal                               1171861.0  1026492.0  13576.0   \n",
            "\n",
            "                                          Recovery Rate  Mortality Rate  \n",
            "Region                                                                   \n",
            "Andaman and Nicobar Islands                   95.280192        1.378484  \n",
            "Andhra Pradesh                                85.015237        0.649328  \n",
            "Arunachal Pradesh                             88.936871        0.391773  \n",
            "Assam                                         85.306491        0.687676  \n",
            "Bihar                                         89.649684        0.608178  \n",
            "Cases being reassigned to states               0.000000        0.000000  \n",
            "Chandigarh                                    86.406667        1.144869  \n",
            "Chhattisgarh                                  88.934136        1.300443  \n",
            "Dadra and Nagar Haveli and Daman and Diu      92.664733        0.041442  \n",
            "Daman & Diu                                    0.000000        0.000000  \n",
            "Delhi                                         94.798246        1.576123  \n",
            "Goa                                           81.161728        1.583127  \n",
            "Gujarat                                       86.203098        1.209735  \n",
            "Haryana                                       88.327704        0.975498  \n",
            "Himachal Pradesh                              77.592724        1.475900  \n",
            "Jammu and Kashmir                             78.478003        1.307166  \n",
            "Jharkhand                                     88.742545        1.433628  \n",
            "Karnataka                                     73.688882        1.005028  \n",
            "Kerala                                        83.886944        0.300449  \n",
            "Ladakh                                        89.555529        1.012869  \n",
            "Lakshadweep                                   75.115119        0.287797  \n",
            "Madhya Pradesh                                87.868074        0.961199  \n",
            "Maharashtra                                   90.686934        1.541859  \n",
            "Manipur                                       82.260404        1.504314  \n",
            "Meghalaya                                     77.134931        1.427308  \n",
            "Mizoram                                       76.675313        0.313446  \n",
            "Nagaland                                      75.232446        1.218339  \n",
            "Odisha                                        84.729718        0.372176  \n",
            "Puducherry                                    78.701752        1.381212  \n",
            "Punjab                                        83.466497        2.407300  \n",
            "Rajasthan                                     81.068340        0.804853  \n",
            "Sikkim                                        72.093421        1.813671  \n",
            "Tamil Nadu                                    84.300297        1.103674  \n",
            "Telangana                                     90.475924        0.561138  \n",
            "Telengana                                     81.685312        0.521472  \n",
            "Tripura                                       85.099121        1.051992  \n",
            "Unassigned                                     0.000000        0.000000  \n",
            "Uttar Pradesh                                 90.571076        1.103524  \n",
            "Uttarakhand                                   72.492647        1.735015  \n",
            "West Bengal                                   87.595030        1.158499  \n"
          ]
        }
      ]
    },
    {
      "cell_type": "markdown",
      "source": [
        "TOP 10 STATES WITH HIGH ACTIVE CASES"
      ],
      "metadata": {
        "id": "aynf8LQACRtF"
      }
    },
    {
      "cell_type": "code",
      "source": [
        "top_10_active_cases=covid_df.groupby(by = 'Region').max()[['Active Cases']].sort_values(by = 'Active Cases',ascending= False ).reset_index()\n",
        "print(top_10_active_cases)"
      ],
      "metadata": {
        "colab": {
          "base_uri": "https://localhost:8080/"
        },
        "id": "ICJgVAWsDc3D",
        "outputId": "8992f9b6-70a8-44be-8de4-2ebce9b40999"
      },
      "execution_count": null,
      "outputs": [
        {
          "output_type": "stream",
          "name": "stdout",
          "text": [
            "                                      Region  Active Cases\n",
            "0                                Maharashtra      701614.0\n",
            "1                                  Karnataka      605515.0\n",
            "2                                     Kerala      445692.0\n",
            "3                              Uttar Pradesh      310783.0\n",
            "4                                 Tamil Nadu      242929.0\n",
            "5                                  Rajasthan      212753.0\n",
            "6                             Andhra Pradesh      211554.0\n",
            "7                                    Gujarat      148297.0\n",
            "8                                West Bengal      131948.0\n",
            "9                               Chhattisgarh      131245.0\n",
            "10                                   Haryana      116867.0\n",
            "11                                     Bihar      115152.0\n",
            "12                            Madhya Pradesh      111366.0\n",
            "13                                     Delhi      103424.0\n",
            "14                                    Odisha       95743.0\n",
            "15                                 Telangana       80695.0\n",
            "16                               Uttarakhand       80000.0\n",
            "17                                    Punjab       79963.0\n",
            "18                                 Telengana       78888.0\n",
            "19                                 Jharkhand       61195.0\n",
            "20                         Jammu and Kashmir       52848.0\n",
            "21                                     Assam       47740.0\n",
            "22                          Himachal Pradesh       40008.0\n",
            "23                                       Goa       32953.0\n",
            "24                                Puducherry       17666.0\n",
            "25          Cases being reassigned to states        9265.0\n",
            "26                                Chandigarh        8653.0\n",
            "27                                   Tripura        7584.0\n",
            "28                                   Manipur        6605.0\n",
            "29                                 Meghalaya        5332.0\n",
            "30                                  Nagaland        4407.0\n",
            "31                                    Sikkim        3096.0\n",
            "32                         Arunachal Pradesh        3068.0\n",
            "33                                   Mizoram        2158.0\n",
            "34  Dadra and Nagar Haveli and Daman and Diu        2081.0\n",
            "35                                    Ladakh        2041.0\n",
            "36                               Lakshadweep        1438.0\n",
            "37               Andaman and Nicobar Islands        1154.0\n",
            "38                                Unassigned          77.0\n",
            "39                               Daman & Diu           2.0\n"
          ]
        }
      ]
    },
    {
      "cell_type": "code",
      "source": [
        "fig=plt.figure(figsize=(10,8))\n",
        "custom_palette = sns.color_palette(\"viridis\", len(top_10_active_cases.iloc[:10]))\n",
        "plt.title(\"Top 10 states with the mot active cases in India\",size=18)\n",
        "ax=sns.barplot(data= top_10_active_cases.iloc[:10], y = 'Active Cases' , x = 'Region', linewidth = 2, edgecolor = 'black',palette=custom_palette)\n"
      ],
      "metadata": {
        "colab": {
          "base_uri": "https://localhost:8080/",
          "height": 865
        },
        "id": "KH9hgEIvJRyJ",
        "outputId": "e0ee1153-aab4-4b54-e1b8-93bf651cb1e0"
      },
      "execution_count": null,
      "outputs": [
        {
          "output_type": "stream",
          "name": "stderr",
          "text": [
            "<ipython-input-62-1216ca9a3257>:4: FutureWarning:\n",
            "\n",
            "\n",
            "\n",
            "Passing `palette` without assigning `hue` is deprecated and will be removed in v0.14.0. Assign the `x` variable to `hue` and set `legend=False` for the same effect.\n",
            "\n",
            "\n"
          ]
        },
        {
          "output_type": "display_data",
          "data": {
            "text/plain": [
              "<Figure size 1000x800 with 1 Axes>"
            ],
            "image/png": "[encoded data removed]"
          },
          "metadata": {}
        }
      ]
    },
    {
      "cell_type": "markdown",
      "source": [
        "TOP 10 STATES WITH THE HIGHEST DEATH CASES"
      ],
      "metadata": {
        "id": "TKrH7mkvNBr_"
      }
    },
    {
      "cell_type": "code",
      "source": [
        "top_10_deaths=covid_df.groupby(by = 'Region').max()[['Deaths']].sort_values(by = 'Deaths',ascending= False ).reset_index()\n",
        "print(top_10_deaths)"
      ],
      "metadata": {
        "colab": {
          "base_uri": "https://localhost:8080/"
        },
        "id": "M_gHq6OlNGYf",
        "outputId": "d61ef23d-3d9e-43e3-8437-4bdd43d96539"
      },
      "execution_count": null,
      "outputs": [
        {
          "output_type": "stream",
          "name": "stdout",
          "text": [
            "                                      Region   Deaths\n",
            "0                                Maharashtra  83777.0\n",
            "1                                  Karnataka  22838.0\n",
            "2                                      Delhi  22111.0\n",
            "3                                 Tamil Nadu  18369.0\n",
            "4                              Uttar Pradesh  18072.0\n",
            "5                                West Bengal  13576.0\n",
            "6                                     Punjab  12317.0\n",
            "7                               Chhattisgarh  12036.0\n",
            "8                             Andhra Pradesh   9580.0\n",
            "9                                    Gujarat   9269.0\n",
            "10                            Madhya Pradesh   7139.0\n",
            "11                                 Rajasthan   7080.0\n",
            "12                                   Haryana   6923.0\n",
            "13                                    Kerala   6612.0\n",
            "14                               Uttarakhand   5132.0\n",
            "15                                 Jharkhand   4601.0\n",
            "16                                     Bihar   4039.0\n",
            "17                         Jammu and Kashmir   3293.0\n",
            "18                                 Telangana   3012.0\n",
            "19                          Himachal Pradesh   2460.0\n",
            "20                                    Odisha   2357.0\n",
            "21                                     Assam   2344.0\n",
            "22                                 Telengana   2312.0\n",
            "23                                       Goa   2197.0\n",
            "24                                Puducherry   1212.0\n",
            "25                                Chandigarh    647.0\n",
            "26                                   Manipur    612.0\n",
            "27                                   Tripura    450.0\n",
            "28                                 Meghalaya    355.0\n",
            "29                                  Nagaland    228.0\n",
            "30                                    Sikkim    212.0\n",
            "31                                    Ladakh    170.0\n",
            "32               Andaman and Nicobar Islands     92.0\n",
            "33                         Arunachal Pradesh     88.0\n",
            "34                                   Mizoram     29.0\n",
            "35                               Lakshadweep     15.0\n",
            "36  Dadra and Nagar Haveli and Daman and Diu      4.0\n",
            "37                               Daman & Diu      0.0\n",
            "38                                Unassigned      0.0\n",
            "39          Cases being reassigned to states      0.0\n"
          ]
        }
      ]
    },
    {
      "cell_type": "code",
      "source": [
        "fig=plt.figure(figsize=(10,8))\n",
        "custom_palette = sns.color_palette(\"viridis\", len(top_10_deaths.iloc[:10]))\n",
        "plt.title(\"Top 10 states with the most death cases in India\",size=18)\n",
        "ax=sns.barplot(data= top_10_deaths.iloc[:10], y = 'Deaths' , x = 'Region', linewidth = 2, edgecolor = 'black',palette=custom_palette)"
      ],
      "metadata": {
        "colab": {
          "base_uri": "https://localhost:8080/",
          "height": 865
        },
        "id": "SdUJMKInNd91",
        "outputId": "1d8e6f6a-f7e5-4611-df92-6fdb3ede57d1"
      },
      "execution_count": null,
      "outputs": [
        {
          "output_type": "stream",
          "name": "stderr",
          "text": [
            "<ipython-input-68-b39e964efa66>:4: FutureWarning:\n",
            "\n",
            "\n",
            "\n",
            "Passing `palette` without assigning `hue` is deprecated and will be removed in v0.14.0. Assign the `x` variable to `hue` and set `legend=False` for the same effect.\n",
            "\n",
            "\n"
          ]
        },
        {
          "output_type": "display_data",
          "data": {
            "text/plain": [
              "<Figure size 1000x800 with 1 Axes>"
            ],
            "image/png": "[encoded data removed]"
          },
          "metadata": {}
        }
      ]
    },
    {
      "cell_type": "markdown",
      "source": [
        "TOP 5 AFFECTED STATES IN INDIA : COVID-19 CASES GROWTH TREND\n"
      ],
      "metadata": {
        "id": "EiUc9pFvN9QR"
      }
    },
    {
      "cell_type": "code",
      "source": [
        "fig = plt.figure(figsize=(10, 8))\n",
        "ax = sns.lineplot(\n",
        "    data=covid_df[covid_df[\"Region\"].isin([\"Maharashtra\", \"Karnataka\", \"Delhi\", \"Tamil Nadu\", \"Uttar Pradesh\"])],\n",
        "    x=\"Date\",\n",
        "    y=\"Active Cases\",\n",
        "    hue=\"Region\",\n",
        ")\n",
        "ax.set_title(\"Top 5 affected states\", size=18)"
      ],
      "metadata": {
        "colab": {
          "base_uri": "https://localhost:8080/",
          "height": 740
        },
        "id": "-ETtZZGpOZBp",
        "outputId": "e78eedf0-ebdd-479e-ab6f-b78a075fce16"
      },
      "execution_count": null,
      "outputs": [
        {
          "output_type": "execute_result",
          "data": {
            "text/plain": [
              "Text(0.5, 1.0, 'Top 5 affected states')"
            ]
          },
          "metadata": {},
          "execution_count": 73
        },
        {
          "output_type": "display_data",
          "data": {
            "text/plain": [
              "<Figure size 1000x800 with 1 Axes>"
            ],
            "image/png": "[encoded data removed]"
          },
          "metadata": {}
        }
      ]
    },
    {
      "cell_type": "code",
      "source": [
        "\n",
        "from google.colab import drive\n",
        "drive.mount('/content/drive')"
      ],
      "metadata": {
        "colab": {
          "base_uri": "https://localhost:8080/",
          "height": 0
        },
        "id": "VCgcwT2z-urW",
        "outputId": "c4973358-8ea3-4573-cae9-cce2b6811f98"
      },
      "execution_count": 3,
      "outputs": [
        {
          "output_type": "stream",
          "name": "stdout",
          "text": [
            "Mounted at /content/drive\n"
          ]
        }
      ]
    },
    {
      "cell_type": "code",
      "source": [
        "import pandas as pd\n",
        "import numpy as np\n",
        "import matplotlib.pyplot as plt\n",
        "import seaborn as sns\n",
        "import plotly.express as px\n",
        "from plotly.subplots import make_subplots\n",
        "from datetime import datetime"
      ],
      "metadata": {
        "id": "fnOdTDu0-1UG"
      },
      "execution_count": 4,
      "outputs": []
    },
    {
      "cell_type": "code",
      "source": [
        "covid_vaccine=pd.read_csv(\"/content/drive/MyDrive/dha project/covid_vaccine_statewise.csv\")"
      ],
      "metadata": {
        "id": "6eBNzLqF-2wQ"
      },
      "execution_count": 5,
      "outputs": []
    },
    {
      "cell_type": "code",
      "source": [
        "covid_vaccine.info()"
      ],
      "metadata": {
        "colab": {
          "base_uri": "https://localhost:8080/",
          "height": 0
        },
        "id": "D_aB03NUYXQh",
        "outputId": "e69c4a33-8f0a-4ffc-d54a-96055e47ddbe"
      },
      "execution_count": 6,
      "outputs": [
        {
          "output_type": "stream",
          "name": "stdout",
          "text": [
            "<class 'pandas.core.frame.DataFrame'>\n",
            "RangeIndex: 7845 entries, 0 to 7844\n",
            "Data columns (total 24 columns):\n",
            " #   Column                               Non-Null Count  Dtype  \n",
            "---  ------                               --------------  -----  \n",
            " 0   Updated On                           7845 non-null   object \n",
            " 1   State                                7845 non-null   object \n",
            " 2   Total Doses Administered             7621 non-null   float64\n",
            " 3   Sessions                             7621 non-null   float64\n",
            " 4    Sites                               7621 non-null   float64\n",
            " 5   First Dose Administered              7621 non-null   float64\n",
            " 6   Second Dose Administered             7621 non-null   float64\n",
            " 7   Male (Doses Administered)            7461 non-null   float64\n",
            " 8   Female (Doses Administered)          7461 non-null   float64\n",
            " 9   Transgender (Doses Administered)     7461 non-null   float64\n",
            " 10   Covaxin (Doses Administered)        7621 non-null   float64\n",
            " 11  CoviShield (Doses Administered)      7621 non-null   float64\n",
            " 12  Sputnik V (Doses Administered)       2995 non-null   float64\n",
            " 13  AEFI                                 5438 non-null   float64\n",
            " 14  18-44 Years (Doses Administered)     1702 non-null   float64\n",
            " 15  45-60 Years (Doses Administered)     1702 non-null   float64\n",
            " 16  60+ Years (Doses Administered)       1702 non-null   float64\n",
            " 17  18-44 Years(Individuals Vaccinated)  3733 non-null   float64\n",
            " 18  45-60 Years(Individuals Vaccinated)  3734 non-null   float64\n",
            " 19  60+ Years(Individuals Vaccinated)    3734 non-null   float64\n",
            " 20  Male(Individuals Vaccinated)         160 non-null    float64\n",
            " 21  Female(Individuals Vaccinated)       160 non-null    float64\n",
            " 22  Transgender(Individuals Vaccinated)  160 non-null    float64\n",
            " 23  Total Individuals Vaccinated         5919 non-null   float64\n",
            "dtypes: float64(22), object(2)\n",
            "memory usage: 1.4+ MB\n"
          ]
        }
      ]
    },
    {
      "cell_type": "code",
      "source": [
        "covid_vaccine.head(5)"
      ],
      "metadata": {
        "colab": {
          "base_uri": "https://localhost:8080/",
          "height": 290
        },
        "id": "FAnbH5ld_MwK",
        "outputId": "f7b918c7-5841-4359-e4c9-ce3abdc9332a"
      },
      "execution_count": 134,
      "outputs": [
        {
          "output_type": "execute_result",
          "data": {
            "text/plain": [
              "   Updated On  State  Total Doses Administered  Sessions   Sites   \\\n",
              "0  16/01/2021  India                   48276.0    3455.0   2957.0   \n",
              "1  17/01/2021  India                   58604.0    8532.0   4954.0   \n",
              "2  18/01/2021  India                   99449.0   13611.0   6583.0   \n",
              "3  19/01/2021  India                  195525.0   17855.0   7951.0   \n",
              "4  20/01/2021  India                  251280.0   25472.0  10504.0   \n",
              "\n",
              "   First Dose Administered  Second Dose Administered  \\\n",
              "0                  48276.0                       0.0   \n",
              "1                  58604.0                       0.0   \n",
              "2                  99449.0                       0.0   \n",
              "3                 195525.0                       0.0   \n",
              "4                 251280.0                       0.0   \n",
              "\n",
              "   Male (Doses Administered)  Female (Doses Administered)  \\\n",
              "0                        NaN                          NaN   \n",
              "1                        NaN                          NaN   \n",
              "2                        NaN                          NaN   \n",
              "3                        NaN                          NaN   \n",
              "4                        NaN                          NaN   \n",
              "\n",
              "   Transgender (Doses Administered)  ...  18-44 Years (Doses Administered)  \\\n",
              "0                               NaN  ...                               NaN   \n",
              "1                               NaN  ...                               NaN   \n",
              "2                               NaN  ...                               NaN   \n",
              "3                               NaN  ...                               NaN   \n",
              "4                               NaN  ...                               NaN   \n",
              "\n",
              "   45-60 Years (Doses Administered)  60+ Years (Doses Administered)  \\\n",
              "0                               NaN                             NaN   \n",
              "1                               NaN                             NaN   \n",
              "2                               NaN                             NaN   \n",
              "3                               NaN                             NaN   \n",
              "4                               NaN                             NaN   \n",
              "\n",
              "   18-44 Years(Individuals Vaccinated)  45-60 Years(Individuals Vaccinated)  \\\n",
              "0                                  NaN                                  NaN   \n",
              "1                                  NaN                                  NaN   \n",
              "2                                  NaN                                  NaN   \n",
              "3                                  NaN                                  NaN   \n",
              "4                                  NaN                                  NaN   \n",
              "\n",
              "   60+ Years(Individuals Vaccinated)  Male(Individuals Vaccinated)  \\\n",
              "0                                NaN                       23757.0   \n",
              "1                                NaN                       27348.0   \n",
              "2                                NaN                       41361.0   \n",
              "3                                NaN                       81901.0   \n",
              "4                                NaN                       98111.0   \n",
              "\n",
              "   Female(Individuals Vaccinated)  Transgender(Individuals Vaccinated)  \\\n",
              "0                         24517.0                                  2.0   \n",
              "1                         31252.0                                  4.0   \n",
              "2                         58083.0                                  5.0   \n",
              "3                        113613.0                                 11.0   \n",
              "4                        153145.0                                 24.0   \n",
              "\n",
              "   Total Individuals Vaccinated  \n",
              "0                       48276.0  \n",
              "1                       58604.0  \n",
              "2                       99449.0  \n",
              "3                      195525.0  \n",
              "4                      251280.0  \n",
              "\n",
              "[5 rows x 24 columns]"
            ],
            "text/html": [
              "\n",
              "  <div id=\"df-e89a8605-cd3d-44ac-b49c-e2fc6500e3e2\" class=\"colab-df-container\">\n",
              "    <div>\n",
              "<style scoped>\n",
              "    .dataframe tbody tr th:only-of-type {\n",
              "        vertical-align: middle;\n",
              "    }\n",
              "\n",
              "    .dataframe tbody tr th {\n",
              "        vertical-align: top;\n",
              "    }\n",
              "\n",
              "    .dataframe thead th {\n",
              "        text-align: right;\n",
              "    }\n",
              "</style>\n",
              "<table border=\"1\" class=\"dataframe\">\n",
              "  <thead>\n",
              "    <tr style=\"text-align: right;\">\n",
              "      <th></th>\n",
              "      <th>Updated On</th>\n",
              "      <th>State</th>\n",
              "      <th>Total Doses Administered</th>\n",
              "      <th>Sessions</th>\n",
              "      <th>Sites</th>\n",
              "      <th>First Dose Administered</th>\n",
              "      <th>Second Dose Administered</th>\n",
              "      <th>Male (Doses Administered)</th>\n",
              "      <th>Female (Doses Administered)</th>\n",
              "      <th>Transgender (Doses Administered)</th>\n",
              "      <th>...</th>\n",
              "      <th>18-44 Years (Doses Administered)</th>\n",
              "      <th>45-60 Years (Doses Administered)</th>\n",
              "      <th>60+ Years (Doses Administered)</th>\n",
              "      <th>18-44 Years(Individuals Vaccinated)</th>\n",
              "      <th>45-60 Years(Individuals Vaccinated)</th>\n",
              "      <th>60+ Years(Individuals Vaccinated)</th>\n",
              "      <th>Male(Individuals Vaccinated)</th>\n",
              "      <th>Female(Individuals Vaccinated)</th>\n",
              "      <th>Transgender(Individuals Vaccinated)</th>\n",
              "      <th>Total Individuals Vaccinated</th>\n",
              "    </tr>\n",
              "  </thead>\n",
              "  <tbody>\n",
              "    <tr>\n",
              "      <th>0</th>\n",
              "      <td>16/01/2021</td>\n",
              "      <td>India</td>\n",
              "      <td>48276.0</td>\n",
              "      <td>3455.0</td>\n",
              "      <td>2957.0</td>\n",
              "      <td>48276.0</td>\n",
              "      <td>0.0</td>\n",
              "      <td>NaN</td>\n",
              "      <td>NaN</td>\n",
              "      <td>NaN</td>\n",
              "      <td>...</td>\n",
              "      <td>NaN</td>\n",
              "      <td>NaN</td>\n",
              "      <td>NaN</td>\n",
              "      <td>NaN</td>\n",
              "      <td>NaN</td>\n",
              "      <td>NaN</td>\n",
              "      <td>23757.0</td>\n",
              "      <td>24517.0</td>\n",
              "      <td>2.0</td>\n",
              "      <td>48276.0</td>\n",
              "    </tr>\n",
              "    <tr>\n",
              "      <th>1</th>\n",
              "      <td>17/01/2021</td>\n",
              "      <td>India</td>\n",
              "      <td>58604.0</td>\n",
              "      <td>8532.0</td>\n",
              "      <td>4954.0</td>\n",
              "      <td>58604.0</td>\n",
              "      <td>0.0</td>\n",
              "      <td>NaN</td>\n",
              "      <td>NaN</td>\n",
              "      <td>NaN</td>\n",
              "      <td>...</td>\n",
              "      <td>NaN</td>\n",
              "      <td>NaN</td>\n",
              "      <td>NaN</td>\n",
              "      <td>NaN</td>\n",
              "      <td>NaN</td>\n",
              "      <td>NaN</td>\n",
              "      <td>27348.0</td>\n",
              "      <td>31252.0</td>\n",
              "      <td>4.0</td>\n",
              "      <td>58604.0</td>\n",
              "    </tr>\n",
              "    <tr>\n",
              "      <th>2</th>\n",
              "      <td>18/01/2021</td>\n",
              "      <td>India</td>\n",
              "      <td>99449.0</td>\n",
              "      <td>13611.0</td>\n",
              "      <td>6583.0</td>\n",
              "      <td>99449.0</td>\n",
              "      <td>0.0</td>\n",
              "      <td>NaN</td>\n",
              "      <td>NaN</td>\n",
              "      <td>NaN</td>\n",
              "      <td>...</td>\n",
              "      <td>NaN</td>\n",
              "      <td>NaN</td>\n",
              "      <td>NaN</td>\n",
              "      <td>NaN</td>\n",
              "      <td>NaN</td>\n",
              "      <td>NaN</td>\n",
              "      <td>41361.0</td>\n",
              "      <td>58083.0</td>\n",
              "      <td>5.0</td>\n",
              "      <td>99449.0</td>\n",
              "    </tr>\n",
              "    <tr>\n",
              "      <th>3</th>\n",
              "      <td>19/01/2021</td>\n",
              "      <td>India</td>\n",
              "      <td>195525.0</td>\n",
              "      <td>17855.0</td>\n",
              "      <td>7951.0</td>\n",
              "      <td>195525.0</td>\n",
              "      <td>0.0</td>\n",
              "      <td>NaN</td>\n",
              "      <td>NaN</td>\n",
              "      <td>NaN</td>\n",
              "      <td>...</td>\n",
              "      <td>NaN</td>\n",
              "      <td>NaN</td>\n",
              "      <td>NaN</td>\n",
              "      <td>NaN</td>\n",
              "      <td>NaN</td>\n",
              "      <td>NaN</td>\n",
              "      <td>81901.0</td>\n",
              "      <td>113613.0</td>\n",
              "      <td>11.0</td>\n",
              "      <td>195525.0</td>\n",
              "    </tr>\n",
              "    <tr>\n",
              "      <th>4</th>\n",
              "      <td>20/01/2021</td>\n",
              "      <td>India</td>\n",
              "      <td>251280.0</td>\n",
              "      <td>25472.0</td>\n",
              "      <td>10504.0</td>\n",
              "      <td>251280.0</td>\n",
              "      <td>0.0</td>\n",
              "      <td>NaN</td>\n",
              "      <td>NaN</td>\n",
              "      <td>NaN</td>\n",
              "      <td>...</td>\n",
              "      <td>NaN</td>\n",
              "      <td>NaN</td>\n",
              "      <td>NaN</td>\n",
              "      <td>NaN</td>\n",
              "      <td>NaN</td>\n",
              "      <td>NaN</td>\n",
              "      <td>98111.0</td>\n",
              "      <td>153145.0</td>\n",
              "      <td>24.0</td>\n",
              "      <td>251280.0</td>\n",
              "    </tr>\n",
              "  </tbody>\n",
              "</table>\n",
              "<p>5 rows × 24 columns</p>\n",
              "</div>\n",
              "    <div class=\"colab-df-buttons\">\n",
              "\n",
              "  <div class=\"colab-df-container\">\n",
              "    <button class=\"colab-df-convert\" onclick=\"convertToInteractive('df-e89a8605-cd3d-44ac-b49c-e2fc6500e3e2')\"\n",
              "            title=\"Convert this dataframe to an interactive table.\"\n",
              "            style=\"display:none;\">\n",
              "\n",
              "  <svg xmlns=\"http://www.w3.org/2000/svg\" height=\"24px\" viewBox=\"0 -960 960 960\">\n",
              "    <path d=\"M120-120v-720h720v720H120Zm60-500h600v-160H180v160Zm220 220h160v-160H400v160Zm0 220h160v-160H400v160ZM180-400h160v-160H180v160Zm440 0h160v-160H620v160ZM180-180h160v-160H180v160Zm440 0h160v-160H620v160Z\"/>\n",
              "  </svg>\n",
              "    </button>\n",
              "\n",
              "  <style>\n",
              "    .colab-df-container {\n",
              "      display:flex;\n",
              "      gap: 12px;\n",
              "    }\n",
              "\n",
              "    .colab-df-convert {\n",
              "      background-color: #E8F0FE;\n",
              "      border: none;\n",
              "      border-radius: 50%;\n",
              "      cursor: pointer;\n",
              "      display: none;\n",
              "      fill: #1967D2;\n",
              "      height: 32px;\n",
              "      padding: 0 0 0 0;\n",
              "      width: 32px;\n",
              "    }\n",
              "\n",
              "    .colab-df-convert:hover {\n",
              "      background-color: #E2EBFA;\n",
              "      box-shadow: 0px 1px 2px rgba(60, 64, 67, 0.3), 0px 1px 3px 1px rgba(60, 64, 67, 0.15);\n",
              "      fill: #174EA6;\n",
              "    }\n",
              "\n",
              "    .colab-df-buttons div {\n",
              "      margin-bottom: 4px;\n",
              "    }\n",
              "\n",
              "    [theme=dark] .colab-df-convert {\n",
              "      background-color: #3B4455;\n",
              "      fill: #D2E3FC;\n",
              "    }\n",
              "\n",
              "    [theme=dark] .colab-df-convert:hover {\n",
              "      background-color: #434B5C;\n",
              "      box-shadow: 0px 1px 3px 1px rgba(0, 0, 0, 0.15);\n",
              "      filter: drop-shadow(0px 1px 2px rgba(0, 0, 0, 0.3));\n",
              "      fill: #FFFFFF;\n",
              "    }\n",
              "  </style>\n",
              "\n",
              "    <script>\n",
              "      const buttonEl =\n",
              "        document.querySelector('#df-e89a8605-cd3d-44ac-b49c-e2fc6500e3e2 button.colab-df-convert');\n",
              "      buttonEl.style.display =\n",
              "        google.colab.kernel.accessAllowed ? 'block' : 'none';\n",
              "\n",
              "      async function convertToInteractive(key) {\n",
              "        const element = document.querySelector('#df-e89a8605-cd3d-44ac-b49c-e2fc6500e3e2');\n",
              "        const dataTable =\n",
              "          await google.colab.kernel.invokeFunction('convertToInteractive',\n",
              "                                                    [key], {});\n",
              "        if (!dataTable) return;\n",
              "\n",
              "        const docLinkHtml = 'Like what you see? Visit the ' +\n",
              "          '<a target=\"_blank\" href=https://colab.research.google.com/notebooks/data_table.ipynb>data table notebook</a>'\n",
              "          + ' to learn more about interactive tables.';\n",
              "        element.innerHTML = '';\n",
              "        dataTable['output_type'] = 'display_data';\n",
              "        await google.colab.output.renderOutput(dataTable, element);\n",
              "        const docLink = document.createElement('div');\n",
              "        docLink.innerHTML = docLinkHtml;\n",
              "        element.appendChild(docLink);\n",
              "      }\n",
              "    </script>\n",
              "  </div>\n",
              "\n",
              "\n",
              "<div id=\"df-56bc08aa-0340-41d9-bb91-5aed5b7c98f2\">\n",
              "  <button class=\"colab-df-quickchart\" onclick=\"quickchart('df-56bc08aa-0340-41d9-bb91-5aed5b7c98f2')\"\n",
              "            title=\"Suggest charts\"\n",
              "            style=\"display:none;\">\n",
              "\n",
              "<svg xmlns=\"http://www.w3.org/2000/svg\" height=\"24px\"viewBox=\"0 0 24 24\"\n",
              "     width=\"24px\">\n",
              "    <g>\n",
              "        <path d=\"M19 3H5c-1.1 0-2 .9-2 2v14c0 1.1.9 2 2 2h14c1.1 0 2-.9 2-2V5c0-1.1-.9-2-2-2zM9 17H7v-7h2v7zm4 0h-2V7h2v10zm4 0h-2v-4h2v4z\"/>\n",
              "    </g>\n",
              "</svg>\n",
              "  </button>\n",
              "\n",
              "<style>\n",
              "  .colab-df-quickchart {\n",
              "      --bg-color: #E8F0FE;\n",
              "      --fill-color: #1967D2;\n",
              "      --hover-bg-color: #E2EBFA;\n",
              "      --hover-fill-color: #174EA6;\n",
              "      --disabled-fill-color: #AAA;\n",
              "      --disabled-bg-color: #DDD;\n",
              "  }\n",
              "\n",
              "  [theme=dark] .colab-df-quickchart {\n",
              "      --bg-color: #3B4455;\n",
              "      --fill-color: #D2E3FC;\n",
              "      --hover-bg-color: #434B5C;\n",
              "      --hover-fill-color: #FFFFFF;\n",
              "      --disabled-bg-color: #3B4455;\n",
              "      --disabled-fill-color: #666;\n",
              "  }\n",
              "\n",
              "  .colab-df-quickchart {\n",
              "    background-color: var(--bg-color);\n",
              "    border: none;\n",
              "    border-radius: 50%;\n",
              "    cursor: pointer;\n",
              "    display: none;\n",
              "    fill: var(--fill-color);\n",
              "    height: 32px;\n",
              "    padding: 0;\n",
              "    width: 32px;\n",
              "  }\n",
              "\n",
              "  .colab-df-quickchart:hover {\n",
              "    background-color: var(--hover-bg-color);\n",
              "    box-shadow: 0 1px 2px rgba(60, 64, 67, 0.3), 0 1px 3px 1px rgba(60, 64, 67, 0.15);\n",
              "    fill: var(--button-hover-fill-color);\n",
              "  }\n",
              "\n",
              "  .colab-df-quickchart-complete:disabled,\n",
              "  .colab-df-quickchart-complete:disabled:hover {\n",
              "    background-color: var(--disabled-bg-color);\n",
              "    fill: var(--disabled-fill-color);\n",
              "    box-shadow: none;\n",
              "  }\n",
              "\n",
              "  .colab-df-spinner {\n",
              "    border: 2px solid var(--fill-color);\n",
              "    border-color: transparent;\n",
              "    border-bottom-color: var(--fill-color);\n",
              "    animation:\n",
              "      spin 1s steps(1) infinite;\n",
              "  }\n",
              "\n",
              "  @keyframes spin {\n",
              "    0% {\n",
              "      border-color: transparent;\n",
              "      border-bottom-color: var(--fill-color);\n",
              "      border-left-color: var(--fill-color);\n",
              "    }\n",
              "    20% {\n",
              "      border-color: transparent;\n",
              "      border-left-color: var(--fill-color);\n",
              "      border-top-color: var(--fill-color);\n",
              "    }\n",
              "    30% {\n",
              "      border-color: transparent;\n",
              "      border-left-color: var(--fill-color);\n",
              "      border-top-color: var(--fill-color);\n",
              "      border-right-color: var(--fill-color);\n",
              "    }\n",
              "    40% {\n",
              "      border-color: transparent;\n",
              "      border-right-color: var(--fill-color);\n",
              "      border-top-color: var(--fill-color);\n",
              "    }\n",
              "    60% {\n",
              "      border-color: transparent;\n",
              "      border-right-color: var(--fill-color);\n",
              "    }\n",
              "    80% {\n",
              "      border-color: transparent;\n",
              "      border-right-color: var(--fill-color);\n",
              "      border-bottom-color: var(--fill-color);\n",
              "    }\n",
              "    90% {\n",
              "      border-color: transparent;\n",
              "      border-bottom-color: var(--fill-color);\n",
              "    }\n",
              "  }\n",
              "</style>\n",
              "\n",
              "  <script>\n",
              "    async function quickchart(key) {\n",
              "      const quickchartButtonEl =\n",
              "        document.querySelector('#' + key + ' button');\n",
              "      quickchartButtonEl.disabled = true;  // To prevent multiple clicks.\n",
              "      quickchartButtonEl.classList.add('colab-df-spinner');\n",
              "      try {\n",
              "        const charts = await google.colab.kernel.invokeFunction(\n",
              "            'suggestCharts', [key], {});\n",
              "      } catch (error) {\n",
              "        console.error('Error during call to suggestCharts:', error);\n",
              "      }\n",
              "      quickchartButtonEl.classList.remove('colab-df-spinner');\n",
              "      quickchartButtonEl.classList.add('colab-df-quickchart-complete');\n",
              "    }\n",
              "    (() => {\n",
              "      let quickchartButtonEl =\n",
              "        document.querySelector('#df-56bc08aa-0340-41d9-bb91-5aed5b7c98f2 button');\n",
              "      quickchartButtonEl.style.display =\n",
              "        google.colab.kernel.accessAllowed ? 'block' : 'none';\n",
              "    })();\n",
              "  </script>\n",
              "</div>\n",
              "\n",
              "    </div>\n",
              "  </div>\n"
            ],
            "application/vnd.google.colaboratory.intrinsic+json": {
              "type": "dataframe",
              "variable_name": "covid_vaccine"
            }
          },
          "metadata": {},
          "execution_count": 134
        }
      ]
    },
    {
      "cell_type": "code",
      "source": [
        "vaccination = covid_vaccine"
      ],
      "metadata": {
        "id": "AoFw7zV8EZGK"
      },
      "execution_count": 138,
      "outputs": []
    },
    {
      "cell_type": "markdown",
      "source": [
        "MALE VS FEMALE VACCINATION"
      ],
      "metadata": {
        "id": "RPQRiyMqD-ob"
      }
    },
    {
      "cell_type": "code",
      "source": [
        "male = vaccination[\"Male(Individuals Vaccinated)\"].sum()\n",
        "female = vaccination[\"Female(Individuals Vaccinated)\"].sum()\n",
        "px.pie(names=[\"Male\",\"Female\"],values=[male,female],title=\"Male and Female Vaccination\")"
      ],
      "metadata": {
        "colab": {
          "base_uri": "https://localhost:8080/",
          "height": 542
        },
        "id": "gHnVan0vD5sP",
        "outputId": "3cfea5fc-071e-4ace-9296-06d43dc2e911"
      },
      "execution_count": 141,
      "outputs": [
        {
          "output_type": "display_data",
          "data": {
            "text/html": [
              "<html>\n",
              "<head><meta charset=\"utf-8\" /></head>\n",
              "<body>\n",
              "    <div>            <script src=\"https://cdnjs.cloudflare.com/ajax/libs/mathjax/2.7.5/MathJax.js?config=TeX-AMS-MML_SVG\"></script><script type=\"text/javascript\">if (window.MathJax && window.MathJax.Hub && window.MathJax.Hub.Config) {window.MathJax.Hub.Config({SVG: {font: \"STIX-Web\"}});}</script>                <script type=\"text/javascript\">window.PlotlyConfig = {MathJaxConfig: 'local'};</script>\n",
              "        <script charset=\"utf-8\" src=\"https://cdn.plot.ly/plotly-2.24.1.min.js\"></script>                <div id=\"cf112f05-7033-4ebe-888a-9d56c34ea33f\" class=\"plotly-graph-div\" style=\"height:525px; width:100%;\"></div>            <script type=\"text/javascript\">                                    window.PLOTLYENV=window.PLOTLYENV || {};                                    if (document.getElementById(\"cf112f05-7033-4ebe-888a-9d56c34ea33f\")) {                    Plotly.newPlot(                        \"cf112f05-7033-4ebe-888a-9d56c34ea33f\",                        [{\"domain\":{\"x\":[0.0,1.0],\"y\":[0.0,1.0]},\"hovertemplate\":\"label=%{label}\\u003cbr\\u003evalue=%{value}\\u003cextra\\u003e\\u003c\\u002fextra\\u003e\",\"labels\":[\"Male\",\"Female\"],\"legendgroup\":\"\",\"name\":\"\",\"showlegend\":true,\"values\":[7138698858.0,6321628736.0],\"type\":\"pie\"}],                        {\"template\":{\"data\":{\"histogram2dcontour\":[{\"type\":\"histogram2dcontour\",\"colorbar\":{\"outlinewidth\":0,\"ticks\":\"\"},\"colorscale\":[[0.0,\"#0d0887\"],[0.1111111111111111,\"#46039f\"],[0.2222222222222222,\"#7201a8\"],[0.3333333333333333,\"#9c179e\"],[0.4444444444444444,\"#bd3786\"],[0.5555555555555556,\"#d8576b\"],[0.6666666666666666,\"#ed7953\"],[0.7777777777777778,\"#fb9f3a\"],[0.8888888888888888,\"#fdca26\"],[1.0,\"#f0f921\"]]}],\"choropleth\":[{\"type\":\"choropleth\",\"colorbar\":{\"outlinewidth\":0,\"ticks\":\"\"}}],\"histogram2d\":[{\"type\":\"histogram2d\",\"colorbar\":{\"outlinewidth\":0,\"ticks\":\"\"},\"colorscale\":[[0.0,\"#0d0887\"],[0.1111111111111111,\"#46039f\"],[0.2222222222222222,\"#7201a8\"],[0.3333333333333333,\"#9c179e\"],[0.4444444444444444,\"#bd3786\"],[0.5555555555555556,\"#d8576b\"],[0.6666666666666666,\"#ed7953\"],[0.7777777777777778,\"#fb9f3a\"],[0.8888888888888888,\"#fdca26\"],[1.0,\"#f0f921\"]]}],\"heatmap\":[{\"type\":\"heatmap\",\"colorbar\":{\"outlinewidth\":0,\"ticks\":\"\"},\"colorscale\":[[0.0,\"#0d0887\"],[0.1111111111111111,\"#46039f\"],[0.2222222222222222,\"#7201a8\"],[0.3333333333333333,\"#9c179e\"],[0.4444444444444444,\"#bd3786\"],[0.5555555555555556,\"#d8576b\"],[0.6666666666666666,\"#ed7953\"],[0.7777777777777778,\"#fb9f3a\"],[0.8888888888888888,\"#fdca26\"],[1.0,\"#f0f921\"]]}],\"heatmapgl\":[{\"type\":\"heatmapgl\",\"colorbar\":{\"outlinewidth\":0,\"ticks\":\"\"},\"colorscale\":[[0.0,\"#0d0887\"],[0.1111111111111111,\"#46039f\"],[0.2222222222222222,\"#7201a8\"],[0.3333333333333333,\"#9c179e\"],[0.4444444444444444,\"#bd3786\"],[0.5555555555555556,\"#d8576b\"],[0.6666666666666666,\"#ed7953\"],[0.7777777777777778,\"#fb9f3a\"],[0.8888888888888888,\"#fdca26\"],[1.0,\"#f0f921\"]]}],\"contourcarpet\":[{\"type\":\"contourcarpet\",\"colorbar\":{\"outlinewidth\":0,\"ticks\":\"\"}}],\"contour\":[{\"type\":\"contour\",\"colorbar\":{\"outlinewidth\":0,\"ticks\":\"\"},\"colorscale\":[[0.0,\"#0d0887\"],[0.1111111111111111,\"#46039f\"],[0.2222222222222222,\"#7201a8\"],[0.3333333333333333,\"#9c179e\"],[0.4444444444444444,\"#bd3786\"],[0.5555555555555556,\"#d8576b\"],[0.6666666666666666,\"#ed7953\"],[0.7777777777777778,\"#fb9f3a\"],[0.8888888888888888,\"#fdca26\"],[1.0,\"#f0f921\"]]}],\"surface\":[{\"type\":\"surface\",\"colorbar\":{\"outlinewidth\":0,\"ticks\":\"\"},\"colorscale\":[[0.0,\"#0d0887\"],[0.1111111111111111,\"#46039f\"],[0.2222222222222222,\"#7201a8\"],[0.3333333333333333,\"#9c179e\"],[0.4444444444444444,\"#bd3786\"],[0.5555555555555556,\"#d8576b\"],[0.6666666666666666,\"#ed7953\"],[0.7777777777777778,\"#fb9f3a\"],[0.8888888888888888,\"#fdca26\"],[1.0,\"#f0f921\"]]}],\"mesh3d\":[{\"type\":\"mesh3d\",\"colorbar\":{\"outlinewidth\":0,\"ticks\":\"\"}}],\"scatter\":[{\"fillpattern\":{\"fillmode\":\"overlay\",\"size\":10,\"solidity\":0.2},\"type\":\"scatter\"}],\"parcoords\":[{\"type\":\"parcoords\",\"line\":{\"colorbar\":{\"outlinewidth\":0,\"ticks\":\"\"}}}],\"scatterpolargl\":[{\"type\":\"scatterpolargl\",\"marker\":{\"colorbar\":{\"outlinewidth\":0,\"ticks\":\"\"}}}],\"bar\":[{\"error_x\":{\"color\":\"#2a3f5f\"},\"error_y\":{\"color\":\"#2a3f5f\"},\"marker\":{\"line\":{\"color\":\"#E5ECF6\",\"width\":0.5},\"pattern\":{\"fillmode\":\"overlay\",\"size\":10,\"solidity\":0.2}},\"type\":\"bar\"}],\"scattergeo\":[{\"type\":\"scattergeo\",\"marker\":{\"colorbar\":{\"outlinewidth\":0,\"ticks\":\"\"}}}],\"scatterpolar\":[{\"type\":\"scatterpolar\",\"marker\":{\"colorbar\":{\"outlinewidth\":0,\"ticks\":\"\"}}}],\"histogram\":[{\"marker\":{\"pattern\":{\"fillmode\":\"overlay\",\"size\":10,\"solidity\":0.2}},\"type\":\"histogram\"}],\"scattergl\":[{\"type\":\"scattergl\",\"marker\":{\"colorbar\":{\"outlinewidth\":0,\"ticks\":\"\"}}}],\"scatter3d\":[{\"type\":\"scatter3d\",\"line\":{\"colorbar\":{\"outlinewidth\":0,\"ticks\":\"\"}},\"marker\":{\"colorbar\":{\"outlinewidth\":0,\"ticks\":\"\"}}}],\"scattermapbox\":[{\"type\":\"scattermapbox\",\"marker\":{\"colorbar\":{\"outlinewidth\":0,\"ticks\":\"\"}}}],\"scatterternary\":[{\"type\":\"scatterternary\",\"marker\":{\"colorbar\":{\"outlinewidth\":0,\"ticks\":\"\"}}}],\"scattercarpet\":[{\"type\":\"scattercarpet\",\"marker\":{\"colorbar\":{\"outlinewidth\":0,\"ticks\":\"\"}}}],\"carpet\":[{\"aaxis\":{\"endlinecolor\":\"#2a3f5f\",\"gridcolor\":\"white\",\"linecolor\":\"white\",\"minorgridcolor\":\"white\",\"startlinecolor\":\"#2a3f5f\"},\"baxis\":{\"endlinecolor\":\"#2a3f5f\",\"gridcolor\":\"white\",\"linecolor\":\"white\",\"minorgridcolor\":\"white\",\"startlinecolor\":\"#2a3f5f\"},\"type\":\"carpet\"}],\"table\":[{\"cells\":{\"fill\":{\"color\":\"#EBF0F8\"},\"line\":{\"color\":\"white\"}},\"header\":{\"fill\":{\"color\":\"#C8D4E3\"},\"line\":{\"color\":\"white\"}},\"type\":\"table\"}],\"barpolar\":[{\"marker\":{\"line\":{\"color\":\"#E5ECF6\",\"width\":0.5},\"pattern\":{\"fillmode\":\"overlay\",\"size\":10,\"solidity\":0.2}},\"type\":\"barpolar\"}],\"pie\":[{\"automargin\":true,\"type\":\"pie\"}]},\"layout\":{\"autotypenumbers\":\"strict\",\"colorway\":[\"#636efa\",\"#EF553B\",\"#00cc96\",\"#ab63fa\",\"#FFA15A\",\"#19d3f3\",\"#FF6692\",\"#B6E880\",\"#FF97FF\",\"#FECB52\"],\"font\":{\"color\":\"#2a3f5f\"},\"hovermode\":\"closest\",\"hoverlabel\":{\"align\":\"left\"},\"paper_bgcolor\":\"white\",\"plot_bgcolor\":\"#E5ECF6\",\"polar\":{\"bgcolor\":\"#E5ECF6\",\"angularaxis\":{\"gridcolor\":\"white\",\"linecolor\":\"white\",\"ticks\":\"\"},\"radialaxis\":{\"gridcolor\":\"white\",\"linecolor\":\"white\",\"ticks\":\"\"}},\"ternary\":{\"bgcolor\":\"#E5ECF6\",\"aaxis\":{\"gridcolor\":\"white\",\"linecolor\":\"white\",\"ticks\":\"\"},\"baxis\":{\"gridcolor\":\"white\",\"linecolor\":\"white\",\"ticks\":\"\"},\"caxis\":{\"gridcolor\":\"white\",\"linecolor\":\"white\",\"ticks\":\"\"}},\"coloraxis\":{\"colorbar\":{\"outlinewidth\":0,\"ticks\":\"\"}},\"colorscale\":{\"sequential\":[[0.0,\"#0d0887\"],[0.1111111111111111,\"#46039f\"],[0.2222222222222222,\"#7201a8\"],[0.3333333333333333,\"#9c179e\"],[0.4444444444444444,\"#bd3786\"],[0.5555555555555556,\"#d8576b\"],[0.6666666666666666,\"#ed7953\"],[0.7777777777777778,\"#fb9f3a\"],[0.8888888888888888,\"#fdca26\"],[1.0,\"#f0f921\"]],\"sequentialminus\":[[0.0,\"#0d0887\"],[0.1111111111111111,\"#46039f\"],[0.2222222222222222,\"#7201a8\"],[0.3333333333333333,\"#9c179e\"],[0.4444444444444444,\"#bd3786\"],[0.5555555555555556,\"#d8576b\"],[0.6666666666666666,\"#ed7953\"],[0.7777777777777778,\"#fb9f3a\"],[0.8888888888888888,\"#fdca26\"],[1.0,\"#f0f921\"]],\"diverging\":[[0,\"#8e0152\"],[0.1,\"#c51b7d\"],[0.2,\"#de77ae\"],[0.3,\"#f1b6da\"],[0.4,\"#fde0ef\"],[0.5,\"#f7f7f7\"],[0.6,\"#e6f5d0\"],[0.7,\"#b8e186\"],[0.8,\"#7fbc41\"],[0.9,\"#4d9221\"],[1,\"#276419\"]]},\"xaxis\":{\"gridcolor\":\"white\",\"linecolor\":\"white\",\"ticks\":\"\",\"title\":{\"standoff\":15},\"zerolinecolor\":\"white\",\"automargin\":true,\"zerolinewidth\":2},\"yaxis\":{\"gridcolor\":\"white\",\"linecolor\":\"white\",\"ticks\":\"\",\"title\":{\"standoff\":15},\"zerolinecolor\":\"white\",\"automargin\":true,\"zerolinewidth\":2},\"scene\":{\"xaxis\":{\"backgroundcolor\":\"#E5ECF6\",\"gridcolor\":\"white\",\"linecolor\":\"white\",\"showbackground\":true,\"ticks\":\"\",\"zerolinecolor\":\"white\",\"gridwidth\":2},\"yaxis\":{\"backgroundcolor\":\"#E5ECF6\",\"gridcolor\":\"white\",\"linecolor\":\"white\",\"showbackground\":true,\"ticks\":\"\",\"zerolinecolor\":\"white\",\"gridwidth\":2},\"zaxis\":{\"backgroundcolor\":\"#E5ECF6\",\"gridcolor\":\"white\",\"linecolor\":\"white\",\"showbackground\":true,\"ticks\":\"\",\"zerolinecolor\":\"white\",\"gridwidth\":2}},\"shapedefaults\":{\"line\":{\"color\":\"#2a3f5f\"}},\"annotationdefaults\":{\"arrowcolor\":\"#2a3f5f\",\"arrowhead\":0,\"arrowwidth\":1},\"geo\":{\"bgcolor\":\"white\",\"landcolor\":\"#E5ECF6\",\"subunitcolor\":\"white\",\"showland\":true,\"showlakes\":true,\"lakecolor\":\"white\"},\"title\":{\"x\":0.05},\"mapbox\":{\"style\":\"light\"}}},\"legend\":{\"tracegroupgap\":0},\"title\":{\"text\":\"Male and Female Vaccination\"}},                        {\"responsive\": true}                    ).then(function(){\n",
              "                            \n",
              "var gd = document.getElementById('cf112f05-7033-4ebe-888a-9d56c34ea33f');\n",
              "var x = new MutationObserver(function (mutations, observer) {{\n",
              "        var display = window.getComputedStyle(gd).display;\n",
              "        if (!display || display === 'none') {{\n",
              "            console.log([gd, 'removed!']);\n",
              "            Plotly.purge(gd);\n",
              "            observer.disconnect();\n",
              "        }}\n",
              "}});\n",
              "\n",
              "// Listen for the removal of the full notebook cells\n",
              "var notebookContainer = gd.closest('#notebook-container');\n",
              "if (notebookContainer) {{\n",
              "    x.observe(notebookContainer, {childList: true});\n",
              "}}\n",
              "\n",
              "// Listen for the clearing of the current output cell\n",
              "var outputEl = gd.closest('.output');\n",
              "if (outputEl) {{\n",
              "    x.observe(outputEl, {childList: true});\n",
              "}}\n",
              "\n",
              "                        })                };                            </script>        </div>\n",
              "</body>\n",
              "</html>"
            ]
          },
          "metadata": {}
        }
      ]
    }
  ]
}